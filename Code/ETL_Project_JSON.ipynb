{
 "cells": [
  {
   "cell_type": "code",
   "execution_count": 1,
   "metadata": {},
   "outputs": [],
   "source": [
    "# Convert CSV to JSON and load JSON into SQL Database\n",
    "# Dependencies\n",
    "import pandas as pd\n",
    "import json\n",
    "from sqlalchemy.ext.declarative import declarative_base\n",
    "Base = declarative_base()\n",
    "from sqlalchemy import Column, Integer, String, Float, Date\n",
    "import pymysql\n",
    "pymysql.install_as_MySQLdb()\n",
    "from sqlalchemy import create_engine"
   ]
  },
  {
   "cell_type": "code",
   "execution_count": 2,
   "metadata": {},
   "outputs": [
    {
     "data": {
      "text/html": [
       "<div>\n",
       "<style scoped>\n",
       "    .dataframe tbody tr th:only-of-type {\n",
       "        vertical-align: middle;\n",
       "    }\n",
       "\n",
       "    .dataframe tbody tr th {\n",
       "        vertical-align: top;\n",
       "    }\n",
       "\n",
       "    .dataframe thead th {\n",
       "        text-align: right;\n",
       "    }\n",
       "</style>\n",
       "<table border=\"1\" class=\"dataframe\">\n",
       "  <thead>\n",
       "    <tr style=\"text-align: right;\">\n",
       "      <th></th>\n",
       "      <th>date</th>\n",
       "      <th>TRANSACTION_TYPE</th>\n",
       "      <th>TOTAL_TRANSACTIONS</th>\n",
       "      <th>TOTAL_SALES</th>\n",
       "      <th>TOTAL_UNITS</th>\n",
       "      <th>TOTAL_COUPONS</th>\n",
       "      <th>max_temp</th>\n",
       "      <th>min_temp</th>\n",
       "      <th>avg_temp</th>\n",
       "      <th>precipitation</th>\n",
       "      <th>snow_fall</th>\n",
       "      <th>snow_depth</th>\n",
       "    </tr>\n",
       "  </thead>\n",
       "  <tbody>\n",
       "    <tr>\n",
       "      <th>0</th>\n",
       "      <td>2016-01-01</td>\n",
       "      <td>S</td>\n",
       "      <td>1604</td>\n",
       "      <td>101482.59</td>\n",
       "      <td>8046</td>\n",
       "      <td>769</td>\n",
       "      <td>42</td>\n",
       "      <td>34</td>\n",
       "      <td>38.0</td>\n",
       "      <td>0.0</td>\n",
       "      <td>0.0</td>\n",
       "      <td>0.0</td>\n",
       "    </tr>\n",
       "    <tr>\n",
       "      <th>1</th>\n",
       "      <td>2016-01-02</td>\n",
       "      <td>S</td>\n",
       "      <td>2669</td>\n",
       "      <td>174602.55</td>\n",
       "      <td>13305</td>\n",
       "      <td>1446</td>\n",
       "      <td>40</td>\n",
       "      <td>32</td>\n",
       "      <td>36.0</td>\n",
       "      <td>0.0</td>\n",
       "      <td>0.0</td>\n",
       "      <td>0.0</td>\n",
       "    </tr>\n",
       "    <tr>\n",
       "      <th>2</th>\n",
       "      <td>2016-01-03</td>\n",
       "      <td>S</td>\n",
       "      <td>2298</td>\n",
       "      <td>152357.03</td>\n",
       "      <td>11795</td>\n",
       "      <td>1324</td>\n",
       "      <td>45</td>\n",
       "      <td>35</td>\n",
       "      <td>40.0</td>\n",
       "      <td>0.0</td>\n",
       "      <td>0.0</td>\n",
       "      <td>0.0</td>\n",
       "    </tr>\n",
       "    <tr>\n",
       "      <th>3</th>\n",
       "      <td>2016-01-04</td>\n",
       "      <td>S</td>\n",
       "      <td>1967</td>\n",
       "      <td>109492.91</td>\n",
       "      <td>9075</td>\n",
       "      <td>947</td>\n",
       "      <td>36</td>\n",
       "      <td>14</td>\n",
       "      <td>25.0</td>\n",
       "      <td>0.0</td>\n",
       "      <td>0.0</td>\n",
       "      <td>0.0</td>\n",
       "    </tr>\n",
       "    <tr>\n",
       "      <th>4</th>\n",
       "      <td>2016-01-05</td>\n",
       "      <td>S</td>\n",
       "      <td>1796</td>\n",
       "      <td>108041.47</td>\n",
       "      <td>8424</td>\n",
       "      <td>662</td>\n",
       "      <td>29</td>\n",
       "      <td>11</td>\n",
       "      <td>20.0</td>\n",
       "      <td>0.0</td>\n",
       "      <td>0.0</td>\n",
       "      <td>0.0</td>\n",
       "    </tr>\n",
       "  </tbody>\n",
       "</table>\n",
       "</div>"
      ],
      "text/plain": [
       "         date TRANSACTION_TYPE  TOTAL_TRANSACTIONS  TOTAL_SALES  TOTAL_UNITS  \\\n",
       "0  2016-01-01                S                1604    101482.59         8046   \n",
       "1  2016-01-02                S                2669    174602.55        13305   \n",
       "2  2016-01-03                S                2298    152357.03        11795   \n",
       "3  2016-01-04                S                1967    109492.91         9075   \n",
       "4  2016-01-05                S                1796    108041.47         8424   \n",
       "\n",
       "   TOTAL_COUPONS  max_temp  min_temp  avg_temp  precipitation  snow_fall  \\\n",
       "0            769        42        34      38.0            0.0        0.0   \n",
       "1           1446        40        32      36.0            0.0        0.0   \n",
       "2           1324        45        35      40.0            0.0        0.0   \n",
       "3            947        36        14      25.0            0.0        0.0   \n",
       "4            662        29        11      20.0            0.0        0.0   \n",
       "\n",
       "   snow_depth  \n",
       "0         0.0  \n",
       "1         0.0  \n",
       "2         0.0  \n",
       "3         0.0  \n",
       "4         0.0  "
      ]
     },
     "execution_count": 2,
     "metadata": {},
     "output_type": "execute_result"
    }
   ],
   "source": [
    "# read weather csv file into dataframe\n",
    "sale_weather_file = \"../Resources/Weather_Sales_Data.csv\"\n",
    "sale_weather_df = pd.read_csv(sale_weather_file)\n",
    "sale_weather_df.head()"
   ]
  },
  {
   "cell_type": "code",
   "execution_count": 3,
   "metadata": {},
   "outputs": [],
   "source": [
    "class Weather(Base):\n",
    "    __tablename__ = 'weatherJSON'\n",
    "    date = Column(String(24), primary_key=True)\n",
    "    total_transactions = Column(Integer)\n",
    "    total_sales = Column(Float)\n",
    "    total_units = Column(Integer)\n",
    "    total_coupons = Column(Integer)\n",
    "    total_return_sales = Column(Float)\n",
    "    total_return_units = Column(Integer)\n",
    "    max_temp = Column(Integer)\n",
    "    min_temp = Column(Float)\n",
    "    avg_temp = Column(Float)\n",
    "    precipitation = Column(Float)\n",
    "    snow_fall = Column(Float)\n",
    "    snow_depth = Column(Float)"
   ]
  },
  {
   "cell_type": "code",
   "execution_count": 4,
   "metadata": {},
   "outputs": [],
   "source": [
    "# create database connection (need to enter mysql password)\n",
    "connection_string = \"root:raynor1128@localhost/weather_data\"\n",
    "engine = create_engine(f'mysql://{connection_string}')"
   ]
  },
  {
   "cell_type": "code",
   "execution_count": 5,
   "metadata": {},
   "outputs": [
    {
     "data": {
      "text/plain": [
       "['sales_2016', 'weather_2016', 'weather_sales_2016']"
      ]
     },
     "execution_count": 5,
     "metadata": {},
     "output_type": "execute_result"
    }
   ],
   "source": [
    "# confirm tables\n",
    "engine.table_names()"
   ]
  },
  {
   "cell_type": "code",
   "execution_count": 6,
   "metadata": {},
   "outputs": [],
   "source": [
    "Base.metadata.create_all(engine)"
   ]
  },
  {
   "cell_type": "code",
   "execution_count": 7,
   "metadata": {},
   "outputs": [],
   "source": [
    "weatherJSON = sale_weather_df.to_json(orient='index', date_format = 'iso')\n",
    "weatherJSON = json.loads(weatherJSON)\n",
    "inds = sale_weather_df.index.values\n"
   ]
  },
  {
   "cell_type": "code",
   "execution_count": 8,
   "metadata": {},
   "outputs": [],
   "source": [
    "from sqlalchemy.orm import Session\n",
    "session = Session(bind=engine)"
   ]
  },
  {
   "cell_type": "code",
   "execution_count": 9,
   "metadata": {},
   "outputs": [],
   "source": [
    "for ind in inds:\n",
    "    ind = str(ind)\n",
    "    dateD = weatherJSON[ind]['date']\n",
    "    total_transactionsD = weatherJSON[ind]['TOTAL_TRANSACTIONS']\n",
    "    total_salesD = weatherJSON[ind]['TOTAL_SALES']\n",
    "    total_unitsD = weatherJSON[ind]['TOTAL_UNITS']\n",
    "    total_couponsD = weatherJSON[ind]['TOTAL_COUPONS']\n",
    "    max_tempD = weatherJSON[ind]['max_temp']\n",
    "    min_tempD = weatherJSON[ind]['min_temp']\n",
    "    avg_tempD = weatherJSON[ind]['avg_temp']\n",
    "    precipitationD =weatherJSON[ind]['precipitation']\n",
    "    snow_fallD = weatherJSON[ind]['snow_fall']\n",
    "    snow_depthD = weatherJSON[ind]['snow_depth']\n",
    "    record = Weather(date = dateD, total_transactions = total_transactionsD, total_sales = total_salesD, total_units = total_unitsD, total_coupons = total_couponsD, max_temp = max_tempD, min_temp = min_tempD, avg_temp = avg_tempD, precipitation = precipitationD, snow_fall = snow_fallD, snow_depth = snow_depthD)\n",
    "    session.add(record)\n",
    "    session.commit()"
   ]
  }
 ],
 "metadata": {
  "kernelspec": {
   "display_name": "Python 3",
   "language": "python",
   "name": "python3"
  },
  "language_info": {
   "codemirror_mode": {
    "name": "ipython",
    "version": 3
   },
   "file_extension": ".py",
   "mimetype": "text/x-python",
   "name": "python",
   "nbconvert_exporter": "python",
   "pygments_lexer": "ipython3",
   "version": "3.6.6"
  }
 },
 "nbformat": 4,
 "nbformat_minor": 2
}
